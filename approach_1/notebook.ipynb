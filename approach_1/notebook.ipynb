{
  "cells": [
    {
      "attachments": {},
      "cell_type": "markdown",
      "metadata": {
        "id": "zrDi5m8kp3Pi"
      },
      "source": [
        "## Installing dependencies"
      ]
    },
    {
      "cell_type": "code",
      "execution_count": 2,
      "metadata": {
        "colab": {
          "base_uri": "https://localhost:8080/"
        },
        "id": "0esooXRkRxRs",
        "outputId": "3a0bfaee-cd03-4f8d-b76d-a3131f70cf48"
      },
      "outputs": [],
      "source": [
        "! pip install contractions nltk textblob fasttext --q"
      ]
    },
    {
      "attachments": {},
      "cell_type": "markdown",
      "metadata": {
        "id": "CdR7UMY6i04i"
      },
      "source": [
        "## Importing library"
      ]
    },
    {
      "cell_type": "code",
      "execution_count": 14,
      "metadata": {
        "colab": {
          "base_uri": "https://localhost:8080/"
        },
        "id": "F09jjcNLRuKm",
        "outputId": "6bcb4a84-2f42-439d-d406-ad76e842ee24"
      },
      "outputs": [
        {
          "name": "stderr",
          "output_type": "stream",
          "text": [
            "[nltk_data] Downloading package punkt to /Users/genereux/nltk_data...\n",
            "[nltk_data]   Package punkt is already up-to-date!\n",
            "[nltk_data] Downloading package punkt_tab to\n",
            "[nltk_data]     /Users/genereux/nltk_data...\n",
            "[nltk_data]   Unzipping tokenizers/punkt_tab.zip.\n",
            "[nltk_data] Downloading package stopwords to\n",
            "[nltk_data]     /Users/genereux/nltk_data...\n",
            "[nltk_data]   Package stopwords is already up-to-date!\n",
            "[nltk_data] Downloading package wordnet to\n",
            "[nltk_data]     /Users/genereux/nltk_data...\n",
            "[nltk_data]   Package wordnet is already up-to-date!\n",
            "[nltk_data] Downloading package omw-1.4 to\n",
            "[nltk_data]     /Users/genereux/nltk_data...\n",
            "[nltk_data]   Package omw-1.4 is already up-to-date!\n"
          ]
        },
        {
          "data": {
            "text/plain": [
              "True"
            ]
          },
          "execution_count": 14,
          "metadata": {},
          "output_type": "execute_result"
        }
      ],
      "source": [
        "import pandas as pd\n",
        "import matplotlib.pyplot as plt\n",
        "import numpy as np\n",
        "import pandas as pd\n",
        "from sklearn.model_selection import train_test_split\n",
        "import fasttext\n",
        "import re\n",
        "from bs4 import BeautifulSoup\n",
        "import contractions\n",
        "from nltk.tokenize import word_tokenize\n",
        "from nltk.corpus import stopwords\n",
        "from nltk.stem import WordNetLemmatizer, PorterStemmer\n",
        "from textblob import TextBlob\n",
        "import pandas as pd\n",
        "import string\n",
        "import nltk\n",
        "\n",
        "nltk.download('punkt')\n",
        "nltk.download('punkt_tab')\n",
        "nltk.download('stopwords')\n",
        "nltk.download('wordnet')\n",
        "nltk.download('omw-1.4')"
      ]
    },
    {
      "attachments": {},
      "cell_type": "markdown",
      "metadata": {
        "id": "xKCZROcUi87K"
      },
      "source": [
        "## Load data"
      ]
    },
    {
      "cell_type": "code",
      "execution_count": 4,
      "metadata": {
        "colab": {
          "base_uri": "https://localhost:8080/",
          "height": 206
        },
        "id": "l0tEVYldRuKt",
        "outputId": "8aacbd5c-de14-4dcf-cebc-c6f2cab32ef3"
      },
      "outputs": [
        {
          "data": {
            "text/html": [
              "<div>\n",
              "<style scoped>\n",
              "    .dataframe tbody tr th:only-of-type {\n",
              "        vertical-align: middle;\n",
              "    }\n",
              "\n",
              "    .dataframe tbody tr th {\n",
              "        vertical-align: top;\n",
              "    }\n",
              "\n",
              "    .dataframe thead th {\n",
              "        text-align: right;\n",
              "    }\n",
              "</style>\n",
              "<table border=\"1\" class=\"dataframe\">\n",
              "  <thead>\n",
              "    <tr style=\"text-align: right;\">\n",
              "      <th></th>\n",
              "      <th>tweet_id</th>\n",
              "      <th>text</th>\n",
              "      <th>location</th>\n",
              "    </tr>\n",
              "  </thead>\n",
              "  <tbody>\n",
              "    <tr>\n",
              "      <th>0</th>\n",
              "      <td>ID_1001136212718088192</td>\n",
              "      <td>NaN</td>\n",
              "      <td>EllicottCity</td>\n",
              "    </tr>\n",
              "    <tr>\n",
              "      <th>1</th>\n",
              "      <td>ID_1001136696589631488</td>\n",
              "      <td>Flash floods struck a Maryland city on Sunday,...</td>\n",
              "      <td>Maryland</td>\n",
              "    </tr>\n",
              "    <tr>\n",
              "      <th>2</th>\n",
              "      <td>ID_1001136950345109504</td>\n",
              "      <td>State of emergency declared for Maryland flood...</td>\n",
              "      <td>Maryland</td>\n",
              "    </tr>\n",
              "    <tr>\n",
              "      <th>3</th>\n",
              "      <td>ID_1001137334056833024</td>\n",
              "      <td>Other parts of Maryland also saw significant d...</td>\n",
              "      <td>Baltimore Maryland</td>\n",
              "    </tr>\n",
              "    <tr>\n",
              "      <th>4</th>\n",
              "      <td>ID_1001138374923579392</td>\n",
              "      <td>Catastrophic Flooding Slams Ellicott City, Mar...</td>\n",
              "      <td>Ellicott City Maryland</td>\n",
              "    </tr>\n",
              "  </tbody>\n",
              "</table>\n",
              "</div>"
            ],
            "text/plain": [
              "                 tweet_id                                               text  \\\n",
              "0  ID_1001136212718088192                                                NaN   \n",
              "1  ID_1001136696589631488  Flash floods struck a Maryland city on Sunday,...   \n",
              "2  ID_1001136950345109504  State of emergency declared for Maryland flood...   \n",
              "3  ID_1001137334056833024  Other parts of Maryland also saw significant d...   \n",
              "4  ID_1001138374923579392  Catastrophic Flooding Slams Ellicott City, Mar...   \n",
              "\n",
              "                 location  \n",
              "0            EllicottCity  \n",
              "1                Maryland  \n",
              "2                Maryland  \n",
              "3      Baltimore Maryland  \n",
              "4  Ellicott City Maryland  "
            ]
          },
          "execution_count": 4,
          "metadata": {},
          "output_type": "execute_result"
        }
      ],
      "source": [
        "df = pd.read_csv(\"../data/Train.csv\")\n",
        "test = pd.read_csv(\"../data/Test.csv\")\n",
        "sup = test.copy()\n",
        "df.head()"
      ]
    },
    {
      "cell_type": "code",
      "execution_count": 5,
      "metadata": {
        "colab": {
          "base_uri": "https://localhost:8080/",
          "height": 206
        },
        "id": "zP6zqDyXqWQV",
        "outputId": "925a5b0c-9d28-408d-aec8-af9ecbd4fa0b"
      },
      "outputs": [
        {
          "data": {
            "text/html": [
              "<div>\n",
              "<style scoped>\n",
              "    .dataframe tbody tr th:only-of-type {\n",
              "        vertical-align: middle;\n",
              "    }\n",
              "\n",
              "    .dataframe tbody tr th {\n",
              "        vertical-align: top;\n",
              "    }\n",
              "\n",
              "    .dataframe thead th {\n",
              "        text-align: right;\n",
              "    }\n",
              "</style>\n",
              "<table border=\"1\" class=\"dataframe\">\n",
              "  <thead>\n",
              "    <tr style=\"text-align: right;\">\n",
              "      <th></th>\n",
              "      <th>tweet_id</th>\n",
              "      <th>text</th>\n",
              "    </tr>\n",
              "  </thead>\n",
              "  <tbody>\n",
              "    <tr>\n",
              "      <th>0</th>\n",
              "      <td>ID_1001154804658286592</td>\n",
              "      <td>What is happening to the infrastructure in New...</td>\n",
              "    </tr>\n",
              "    <tr>\n",
              "      <th>1</th>\n",
              "      <td>ID_1001155505459486720</td>\n",
              "      <td>SOLDER MISSING IN FLOOD.. PRAY FOR EDDISON HER...</td>\n",
              "    </tr>\n",
              "    <tr>\n",
              "      <th>2</th>\n",
              "      <td>ID_1001155756371136512</td>\n",
              "      <td>RT @TIME: Police searching for missing person ...</td>\n",
              "    </tr>\n",
              "    <tr>\n",
              "      <th>3</th>\n",
              "      <td>ID_1001159445194399744</td>\n",
              "      <td>Flash Flood Tears Through Maryland Town For Se...</td>\n",
              "    </tr>\n",
              "    <tr>\n",
              "      <th>4</th>\n",
              "      <td>ID_1001164907587538944</td>\n",
              "      <td>Ellicott City #FLOODING Pictures: Maryland Gov...</td>\n",
              "    </tr>\n",
              "  </tbody>\n",
              "</table>\n",
              "</div>"
            ],
            "text/plain": [
              "                 tweet_id                                               text\n",
              "0  ID_1001154804658286592  What is happening to the infrastructure in New...\n",
              "1  ID_1001155505459486720  SOLDER MISSING IN FLOOD.. PRAY FOR EDDISON HER...\n",
              "2  ID_1001155756371136512  RT @TIME: Police searching for missing person ...\n",
              "3  ID_1001159445194399744  Flash Flood Tears Through Maryland Town For Se...\n",
              "4  ID_1001164907587538944  Ellicott City #FLOODING Pictures: Maryland Gov..."
            ]
          },
          "execution_count": 5,
          "metadata": {},
          "output_type": "execute_result"
        }
      ],
      "source": [
        "test.head()"
      ]
    },
    {
      "cell_type": "code",
      "execution_count": 6,
      "metadata": {
        "colab": {
          "base_uri": "https://localhost:8080/"
        },
        "id": "wWIsse0rRuKt",
        "outputId": "cce90dc9-6c50-4293-d6b2-ff38bb394537"
      },
      "outputs": [
        {
          "data": {
            "text/plain": [
              "('State of emergency declared for Maryland flooding:  via @YouTube',\n",
              " 'Maryland')"
            ]
          },
          "execution_count": 6,
          "metadata": {},
          "output_type": "execute_result"
        }
      ],
      "source": [
        "df[\"text\"][2] , df[\"location\"][2]"
      ]
    },
    {
      "cell_type": "code",
      "execution_count": 7,
      "metadata": {
        "colab": {
          "base_uri": "https://localhost:8080/"
        },
        "id": "RtCJXLkPRuKt",
        "outputId": "7cc3a828-f5b6-4def-862a-12e9bc4c8a7b"
      },
      "outputs": [
        {
          "data": {
            "text/plain": [
              "('Catastrophic Flooding Slams Ellicott City, Maryland; Water Rescues Reported - The Weather Channel  via @GoogleNews',\n",
              " 'Ellicott City Maryland')"
            ]
          },
          "execution_count": 7,
          "metadata": {},
          "output_type": "execute_result"
        }
      ],
      "source": [
        "df[\"text\"][4] , df[\"location\"][4]"
      ]
    },
    {
      "cell_type": "code",
      "execution_count": 8,
      "metadata": {
        "colab": {
          "base_uri": "https://localhost:8080/"
        },
        "id": "i7taK6w7nVrh",
        "outputId": "774961fb-258a-42b4-e41a-84a0ef5d0af4"
      },
      "outputs": [
        {
          "data": {
            "text/plain": [
              "tweet_id        0\n",
              "text        56624\n",
              "location    29612\n",
              "dtype: int64"
            ]
          },
          "execution_count": 8,
          "metadata": {},
          "output_type": "execute_result"
        }
      ],
      "source": [
        "df.isnull().sum()"
      ]
    },
    {
      "cell_type": "code",
      "execution_count": 9,
      "metadata": {
        "id": "qcr1hJzgV6vn"
      },
      "outputs": [],
      "source": [
        "df.dropna(inplace=True)"
      ]
    },
    {
      "cell_type": "code",
      "execution_count": 10,
      "metadata": {
        "colab": {
          "base_uri": "https://localhost:8080/",
          "height": 206
        },
        "id": "leezbxr1RuKv",
        "outputId": "4416d3c0-7c2b-4c68-f14c-f7154fd86e0e"
      },
      "outputs": [
        {
          "data": {
            "text/html": [
              "<div>\n",
              "<style scoped>\n",
              "    .dataframe tbody tr th:only-of-type {\n",
              "        vertical-align: middle;\n",
              "    }\n",
              "\n",
              "    .dataframe tbody tr th {\n",
              "        vertical-align: top;\n",
              "    }\n",
              "\n",
              "    .dataframe thead th {\n",
              "        text-align: right;\n",
              "    }\n",
              "</style>\n",
              "<table border=\"1\" class=\"dataframe\">\n",
              "  <thead>\n",
              "    <tr style=\"text-align: right;\">\n",
              "      <th></th>\n",
              "      <th>tweet_id</th>\n",
              "      <th>text</th>\n",
              "      <th>location</th>\n",
              "    </tr>\n",
              "  </thead>\n",
              "  <tbody>\n",
              "    <tr>\n",
              "      <th>1</th>\n",
              "      <td>ID_1001136696589631488</td>\n",
              "      <td>Flash floods struck a Maryland city on Sunday,...</td>\n",
              "      <td>Maryland</td>\n",
              "    </tr>\n",
              "    <tr>\n",
              "      <th>2</th>\n",
              "      <td>ID_1001136950345109504</td>\n",
              "      <td>State of emergency declared for Maryland flood...</td>\n",
              "      <td>Maryland</td>\n",
              "    </tr>\n",
              "    <tr>\n",
              "      <th>3</th>\n",
              "      <td>ID_1001137334056833024</td>\n",
              "      <td>Other parts of Maryland also saw significant d...</td>\n",
              "      <td>Baltimore Maryland</td>\n",
              "    </tr>\n",
              "    <tr>\n",
              "      <th>4</th>\n",
              "      <td>ID_1001138374923579392</td>\n",
              "      <td>Catastrophic Flooding Slams Ellicott City, Mar...</td>\n",
              "      <td>Ellicott City Maryland</td>\n",
              "    </tr>\n",
              "    <tr>\n",
              "      <th>5</th>\n",
              "      <td>ID_1001138377717157888</td>\n",
              "      <td>WATCH: 1 missing after flash #FLOODING devasta...</td>\n",
              "      <td>Ellicott City Maryland</td>\n",
              "    </tr>\n",
              "  </tbody>\n",
              "</table>\n",
              "</div>"
            ],
            "text/plain": [
              "                 tweet_id                                               text  \\\n",
              "1  ID_1001136696589631488  Flash floods struck a Maryland city on Sunday,...   \n",
              "2  ID_1001136950345109504  State of emergency declared for Maryland flood...   \n",
              "3  ID_1001137334056833024  Other parts of Maryland also saw significant d...   \n",
              "4  ID_1001138374923579392  Catastrophic Flooding Slams Ellicott City, Mar...   \n",
              "5  ID_1001138377717157888  WATCH: 1 missing after flash #FLOODING devasta...   \n",
              "\n",
              "                 location  \n",
              "1                Maryland  \n",
              "2                Maryland  \n",
              "3      Baltimore Maryland  \n",
              "4  Ellicott City Maryland  \n",
              "5  Ellicott City Maryland  "
            ]
          },
          "execution_count": 10,
          "metadata": {},
          "output_type": "execute_result"
        }
      ],
      "source": [
        "df.head()"
      ]
    },
    {
      "cell_type": "code",
      "execution_count": 11,
      "metadata": {
        "colab": {
          "base_uri": "https://localhost:8080/"
        },
        "id": "garViobsd02w",
        "outputId": "318f93d6-43d2-44be-bb20-a8d5432e5107"
      },
      "outputs": [
        {
          "data": {
            "text/plain": [
              "location\n",
              "Mexico                           582\n",
              "California                       544\n",
              "Ecuador                          539\n",
              "Nebraska                         495\n",
              "Haiti                            424\n",
              "                                ... \n",
              "Nebraska Columbia County           1\n",
              "Nebraska Lincoln Fremont           1\n",
              "Iowa Wisconsin Nebraska            1\n",
              "Florida Mexico Nebraska Texas      1\n",
              "Israels Mexico City Thailand       1\n",
              "Name: count, Length: 3476, dtype: int64"
            ]
          },
          "execution_count": 11,
          "metadata": {},
          "output_type": "execute_result"
        }
      ],
      "source": [
        "df[\"location\"].value_counts()"
      ]
    },
    {
      "cell_type": "code",
      "execution_count": 12,
      "metadata": {
        "id": "WXRd3dF9l7TX"
      },
      "outputs": [],
      "source": [
        "class TextPreprocessor:\n",
        "    def __init__(self, custom_stopwords=None):\n",
        "        self.stop_words = set(stopwords.words('english'))\n",
        "        if custom_stopwords:\n",
        "            self.stop_words.update(custom_stopwords)\n",
        "        self.lemmatizer = WordNetLemmatizer()\n",
        "        self.stemmer = PorterStemmer()\n",
        "\n",
        "    def clean_text(self, text):\n",
        "        if not isinstance(text, str):\n",
        "            text = str(text)\n",
        "        text = BeautifulSoup(text, \"html.parser\").get_text()\n",
        "        text = text.lower()\n",
        "        text = re.sub(r'\\d+', '', text)\n",
        "        text = re.sub(r'[^\\w\\s]', '', text)\n",
        "        text = re.sub(r'\\s+', ' ', text).strip()\n",
        "        text = contractions.fix(text)\n",
        "        return text\n",
        "\n",
        "    def remove_urls(self, text):\n",
        "        return re.sub(r'http\\S+|www.\\S+', '', text)\n",
        "\n",
        "    def normalize_text(self, text):\n",
        "        return ''.join([c.lower() for c in text if c not in string.punctuation])\n",
        "\n",
        "    def tokenize_text(self, text):\n",
        "        return word_tokenize(text)\n",
        "\n",
        "    def remove_stopwords(self, words):\n",
        "        return [word for word in words if word not in self.stop_words]\n",
        "\n",
        "    def lemmatize_words(self, words):\n",
        "        return [self.lemmatizer.lemmatize(word) for word in words]\n",
        "\n",
        "    def stem_words(self, words):\n",
        "        return [self.stemmer.stem(word) for word in words]\n",
        "\n",
        "    def correct_spelling(self, text):\n",
        "        return str(TextBlob(text).correct())\n",
        "\n",
        "    def remove_non_ascii(self, words):\n",
        "        return [word for word in words if word.isascii()]\n",
        "\n",
        "    def generate_ngrams(self, words, n=2):\n",
        "        return [' '.join(words[i:i+n]) for i in range(len(words)-n+1)]\n",
        "\n",
        "    def preprocess_text(self, text, use_stemming=False, use_spelling_correction=False, generate_ngrams=False):\n",
        "        if pd.isna(text):\n",
        "            return \"\"\n",
        "        text = self.clean_text(text)\n",
        "        text = self.remove_urls(text)\n",
        "        text = self.normalize_text(text)\n",
        "        words = self.tokenize_text(text)\n",
        "        words = self.remove_stopwords(words)\n",
        "        if use_stemming:\n",
        "            words = self.stem_words(words)\n",
        "        else:\n",
        "            words = self.lemmatize_wods(words)\n",
        "        words = self.remove_non_ascii(words)\n",
        "        cleaned_text = \" \".join(words)\n",
        "        if use_spelling_correction:\n",
        "            cleaned_text = self.correct_spelling(cleaned_text)\n",
        "        if generate_ngrams:\n",
        "            ngrams = self.generate_ngrams(words)\n",
        "            cleaned_text += \" \" + \" \".join(ngrams)\n",
        "        return cleaned_text\n",
        "\n",
        "    def preprocess_dataframe(self, df, text_column, **kwargs):\n",
        "        df['cleaned_text'] = df[text_column].apply(lambda x: self.preprocess_text(x, **kwargs))\n",
        "        return df"
      ]
    },
    {
      "cell_type": "code",
      "execution_count": 15,
      "metadata": {
        "colab": {
          "base_uri": "https://localhost:8080/"
        },
        "id": "Rz_0c69pl-lx",
        "outputId": "248c4723-ceeb-448f-a509-179557cef611"
      },
      "outputs": [
        {
          "name": "stderr",
          "output_type": "stream",
          "text": [
            "/var/folders/w8/b_cflrn97k9c15rcrn5t8mmr0000gn/T/ipykernel_14327/4091496977.py:12: MarkupResemblesLocatorWarning: The input looks more like a filename than markup. You may want to open this file and pass the filehandle into Beautiful Soup.\n",
            "  text = BeautifulSoup(text, \"html.parser\").get_text()\n"
          ]
        }
      ],
      "source": [
        "preprocessor = TextPreprocessor(custom_stopwords=['custom', 'words'])\n",
        "df = preprocessor.preprocess_dataframe(df, 'text', use_stemming=True, use_spelling_correction=False, generate_ngrams=False)"
      ]
    },
    {
      "cell_type": "code",
      "execution_count": 16,
      "metadata": {
        "colab": {
          "base_uri": "https://localhost:8080/"
        },
        "id": "p2l37AHcmWX-",
        "outputId": "bb95528b-a89c-4fa2-beef-2f86dcdd1874"
      },
      "outputs": [
        {
          "name": "stderr",
          "output_type": "stream",
          "text": [
            "/var/folders/w8/b_cflrn97k9c15rcrn5t8mmr0000gn/T/ipykernel_14327/4091496977.py:12: MarkupResemblesLocatorWarning: The input looks more like a filename than markup. You may want to open this file and pass the filehandle into Beautiful Soup.\n",
            "  text = BeautifulSoup(text, \"html.parser\").get_text()\n"
          ]
        }
      ],
      "source": [
        "preprocessor = TextPreprocessor(custom_stopwords=['custom', 'words'])\n",
        "test = preprocessor.preprocess_dataframe(test, 'text', use_stemming=True, use_spelling_correction=False, generate_ngrams=False)"
      ]
    },
    {
      "cell_type": "code",
      "execution_count": 17,
      "metadata": {
        "colab": {
          "base_uri": "https://localhost:8080/"
        },
        "id": "pD4h37fbRuKv",
        "outputId": "5bf3d9b1-1681-4f87-9416-18677b8fcfe0"
      },
      "outputs": [
        {
          "data": {
            "text/plain": [
              "('State of emergency declared for Maryland flooding:  via @YouTube',\n",
              " 'state emerg declar maryland flood via youtub')"
            ]
          },
          "execution_count": 17,
          "metadata": {},
          "output_type": "execute_result"
        }
      ],
      "source": [
        "df[\"text\"][2] , df[\"cleaned_text\"][2]"
      ]
    },
    {
      "cell_type": "code",
      "execution_count": 18,
      "metadata": {
        "colab": {
          "base_uri": "https://localhost:8080/"
        },
        "id": "Saqt0xlHRuKw",
        "outputId": "c20e6269-8da5-4109-9b8d-f9c76d29098e"
      },
      "outputs": [
        {
          "data": {
            "text/plain": [
              "location\n",
              "Mexico                           582\n",
              "California                       544\n",
              "Ecuador                          539\n",
              "Nebraska                         495\n",
              "Haiti                            424\n",
              "                                ... \n",
              "Nebraska Columbia County           1\n",
              "Nebraska Lincoln Fremont           1\n",
              "Iowa Wisconsin Nebraska            1\n",
              "Florida Mexico Nebraska Texas      1\n",
              "Israels Mexico City Thailand       1\n",
              "Name: count, Length: 3476, dtype: int64"
            ]
          },
          "execution_count": 18,
          "metadata": {},
          "output_type": "execute_result"
        }
      ],
      "source": [
        "df[\"location\"].value_counts()"
      ]
    },
    {
      "attachments": {},
      "cell_type": "markdown",
      "metadata": {
        "id": "_Aqqxgi3jHV3"
      },
      "source": [
        "## Create label for locations"
      ]
    },
    {
      "cell_type": "code",
      "execution_count": 19,
      "metadata": {
        "colab": {
          "base_uri": "https://localhost:8080/",
          "height": 206
        },
        "id": "4H_Ec394Uyv7",
        "outputId": "4acff945-486e-4588-fa70-c8144e447f0e"
      },
      "outputs": [
        {
          "data": {
            "text/html": [
              "<div>\n",
              "<style scoped>\n",
              "    .dataframe tbody tr th:only-of-type {\n",
              "        vertical-align: middle;\n",
              "    }\n",
              "\n",
              "    .dataframe tbody tr th {\n",
              "        vertical-align: top;\n",
              "    }\n",
              "\n",
              "    .dataframe thead th {\n",
              "        text-align: right;\n",
              "    }\n",
              "</style>\n",
              "<table border=\"1\" class=\"dataframe\">\n",
              "  <thead>\n",
              "    <tr style=\"text-align: right;\">\n",
              "      <th></th>\n",
              "      <th>tweet_id</th>\n",
              "      <th>text</th>\n",
              "      <th>location</th>\n",
              "      <th>cleaned_text</th>\n",
              "    </tr>\n",
              "  </thead>\n",
              "  <tbody>\n",
              "    <tr>\n",
              "      <th>1</th>\n",
              "      <td>ID_1001136696589631488</td>\n",
              "      <td>Flash floods struck a Maryland city on Sunday,...</td>\n",
              "      <td>__label__Maryland</td>\n",
              "      <td>flash flood struck maryland citi sunday wash s...</td>\n",
              "    </tr>\n",
              "    <tr>\n",
              "      <th>2</th>\n",
              "      <td>ID_1001136950345109504</td>\n",
              "      <td>State of emergency declared for Maryland flood...</td>\n",
              "      <td>__label__Maryland</td>\n",
              "      <td>state emerg declar maryland flood via youtub</td>\n",
              "    </tr>\n",
              "    <tr>\n",
              "      <th>3</th>\n",
              "      <td>ID_1001137334056833024</td>\n",
              "      <td>Other parts of Maryland also saw significant d...</td>\n",
              "      <td>__label__Baltimore Maryland</td>\n",
              "      <td>part maryland also saw signific damag sunday s...</td>\n",
              "    </tr>\n",
              "    <tr>\n",
              "      <th>4</th>\n",
              "      <td>ID_1001138374923579392</td>\n",
              "      <td>Catastrophic Flooding Slams Ellicott City, Mar...</td>\n",
              "      <td>__label__Ellicott City Maryland</td>\n",
              "      <td>catastroph flood slam ellicott citi maryland w...</td>\n",
              "    </tr>\n",
              "    <tr>\n",
              "      <th>5</th>\n",
              "      <td>ID_1001138377717157888</td>\n",
              "      <td>WATCH: 1 missing after flash #FLOODING devasta...</td>\n",
              "      <td>__label__Ellicott City Maryland</td>\n",
              "      <td>watch miss flash flood devast ellicott citi ma...</td>\n",
              "    </tr>\n",
              "  </tbody>\n",
              "</table>\n",
              "</div>"
            ],
            "text/plain": [
              "                 tweet_id                                               text  \\\n",
              "1  ID_1001136696589631488  Flash floods struck a Maryland city on Sunday,...   \n",
              "2  ID_1001136950345109504  State of emergency declared for Maryland flood...   \n",
              "3  ID_1001137334056833024  Other parts of Maryland also saw significant d...   \n",
              "4  ID_1001138374923579392  Catastrophic Flooding Slams Ellicott City, Mar...   \n",
              "5  ID_1001138377717157888  WATCH: 1 missing after flash #FLOODING devasta...   \n",
              "\n",
              "                          location  \\\n",
              "1                __label__Maryland   \n",
              "2                __label__Maryland   \n",
              "3      __label__Baltimore Maryland   \n",
              "4  __label__Ellicott City Maryland   \n",
              "5  __label__Ellicott City Maryland   \n",
              "\n",
              "                                        cleaned_text  \n",
              "1  flash flood struck maryland citi sunday wash s...  \n",
              "2       state emerg declar maryland flood via youtub  \n",
              "3  part maryland also saw signific damag sunday s...  \n",
              "4  catastroph flood slam ellicott citi maryland w...  \n",
              "5  watch miss flash flood devast ellicott citi ma...  "
            ]
          },
          "execution_count": 19,
          "metadata": {},
          "output_type": "execute_result"
        }
      ],
      "source": [
        "df[\"location\"] = \"__label__\" + df[\"location\"].astype(str)\n",
        "df.head()"
      ]
    },
    {
      "attachments": {},
      "cell_type": "markdown",
      "metadata": {
        "id": "EB2AUwCbjOfo"
      },
      "source": [
        "## Combine Label Location with Text"
      ]
    },
    {
      "cell_type": "code",
      "execution_count": 20,
      "metadata": {
        "colab": {
          "base_uri": "https://localhost:8080/",
          "height": 293
        },
        "id": "RJgIqZOUVi8v",
        "outputId": "47f1139f-f8a9-4947-ed31-ceb26b545829"
      },
      "outputs": [
        {
          "data": {
            "text/html": [
              "<div>\n",
              "<style scoped>\n",
              "    .dataframe tbody tr th:only-of-type {\n",
              "        vertical-align: middle;\n",
              "    }\n",
              "\n",
              "    .dataframe tbody tr th {\n",
              "        vertical-align: top;\n",
              "    }\n",
              "\n",
              "    .dataframe thead th {\n",
              "        text-align: right;\n",
              "    }\n",
              "</style>\n",
              "<table border=\"1\" class=\"dataframe\">\n",
              "  <thead>\n",
              "    <tr style=\"text-align: right;\">\n",
              "      <th></th>\n",
              "      <th>tweet_id</th>\n",
              "      <th>text</th>\n",
              "      <th>location</th>\n",
              "      <th>cleaned_text</th>\n",
              "      <th>location_description</th>\n",
              "    </tr>\n",
              "  </thead>\n",
              "  <tbody>\n",
              "    <tr>\n",
              "      <th>1</th>\n",
              "      <td>ID_1001136696589631488</td>\n",
              "      <td>Flash floods struck a Maryland city on Sunday,...</td>\n",
              "      <td>__label__Maryland</td>\n",
              "      <td>flash flood struck maryland citi sunday wash s...</td>\n",
              "      <td>__label__Maryland flash flood struck maryland ...</td>\n",
              "    </tr>\n",
              "    <tr>\n",
              "      <th>2</th>\n",
              "      <td>ID_1001136950345109504</td>\n",
              "      <td>State of emergency declared for Maryland flood...</td>\n",
              "      <td>__label__Maryland</td>\n",
              "      <td>state emerg declar maryland flood via youtub</td>\n",
              "      <td>__label__Maryland state emerg declar maryland ...</td>\n",
              "    </tr>\n",
              "    <tr>\n",
              "      <th>3</th>\n",
              "      <td>ID_1001137334056833024</td>\n",
              "      <td>Other parts of Maryland also saw significant d...</td>\n",
              "      <td>__label__Baltimore Maryland</td>\n",
              "      <td>part maryland also saw signific damag sunday s...</td>\n",
              "      <td>__label__Baltimore Maryland part maryland also...</td>\n",
              "    </tr>\n",
              "    <tr>\n",
              "      <th>4</th>\n",
              "      <td>ID_1001138374923579392</td>\n",
              "      <td>Catastrophic Flooding Slams Ellicott City, Mar...</td>\n",
              "      <td>__label__Ellicott City Maryland</td>\n",
              "      <td>catastroph flood slam ellicott citi maryland w...</td>\n",
              "      <td>__label__Ellicott City Maryland catastroph flo...</td>\n",
              "    </tr>\n",
              "    <tr>\n",
              "      <th>5</th>\n",
              "      <td>ID_1001138377717157888</td>\n",
              "      <td>WATCH: 1 missing after flash #FLOODING devasta...</td>\n",
              "      <td>__label__Ellicott City Maryland</td>\n",
              "      <td>watch miss flash flood devast ellicott citi ma...</td>\n",
              "      <td>__label__Ellicott City Maryland watch miss fla...</td>\n",
              "    </tr>\n",
              "  </tbody>\n",
              "</table>\n",
              "</div>"
            ],
            "text/plain": [
              "                 tweet_id                                               text  \\\n",
              "1  ID_1001136696589631488  Flash floods struck a Maryland city on Sunday,...   \n",
              "2  ID_1001136950345109504  State of emergency declared for Maryland flood...   \n",
              "3  ID_1001137334056833024  Other parts of Maryland also saw significant d...   \n",
              "4  ID_1001138374923579392  Catastrophic Flooding Slams Ellicott City, Mar...   \n",
              "5  ID_1001138377717157888  WATCH: 1 missing after flash #FLOODING devasta...   \n",
              "\n",
              "                          location  \\\n",
              "1                __label__Maryland   \n",
              "2                __label__Maryland   \n",
              "3      __label__Baltimore Maryland   \n",
              "4  __label__Ellicott City Maryland   \n",
              "5  __label__Ellicott City Maryland   \n",
              "\n",
              "                                        cleaned_text  \\\n",
              "1  flash flood struck maryland citi sunday wash s...   \n",
              "2       state emerg declar maryland flood via youtub   \n",
              "3  part maryland also saw signific damag sunday s...   \n",
              "4  catastroph flood slam ellicott citi maryland w...   \n",
              "5  watch miss flash flood devast ellicott citi ma...   \n",
              "\n",
              "                                location_description  \n",
              "1  __label__Maryland flash flood struck maryland ...  \n",
              "2  __label__Maryland state emerg declar maryland ...  \n",
              "3  __label__Baltimore Maryland part maryland also...  \n",
              "4  __label__Ellicott City Maryland catastroph flo...  \n",
              "5  __label__Ellicott City Maryland watch miss fla...  "
            ]
          },
          "execution_count": 20,
          "metadata": {},
          "output_type": "execute_result"
        }
      ],
      "source": [
        "df[\"location_description\"] = df[\"location\"] + \" \" + df[\"cleaned_text\"]\n",
        "df.head()"
      ]
    },
    {
      "attachments": {},
      "cell_type": "markdown",
      "metadata": {
        "id": "QcaCWtrljsiQ"
      },
      "source": [
        "## Clean combined"
      ]
    },
    {
      "cell_type": "code",
      "execution_count": 21,
      "metadata": {
        "colab": {
          "base_uri": "https://localhost:8080/",
          "height": 293
        },
        "id": "zH8DmekCexLL",
        "outputId": "6cea92e6-0ab3-4a92-ed1e-0140da8ed285"
      },
      "outputs": [
        {
          "data": {
            "text/html": [
              "<div>\n",
              "<style scoped>\n",
              "    .dataframe tbody tr th:only-of-type {\n",
              "        vertical-align: middle;\n",
              "    }\n",
              "\n",
              "    .dataframe tbody tr th {\n",
              "        vertical-align: top;\n",
              "    }\n",
              "\n",
              "    .dataframe thead th {\n",
              "        text-align: right;\n",
              "    }\n",
              "</style>\n",
              "<table border=\"1\" class=\"dataframe\">\n",
              "  <thead>\n",
              "    <tr style=\"text-align: right;\">\n",
              "      <th></th>\n",
              "      <th>tweet_id</th>\n",
              "      <th>text</th>\n",
              "      <th>location</th>\n",
              "      <th>cleaned_text</th>\n",
              "      <th>location_description</th>\n",
              "    </tr>\n",
              "  </thead>\n",
              "  <tbody>\n",
              "    <tr>\n",
              "      <th>1</th>\n",
              "      <td>ID_1001136696589631488</td>\n",
              "      <td>Flash floods struck a Maryland city on Sunday,...</td>\n",
              "      <td>__label__Maryland</td>\n",
              "      <td>flash flood struck maryland citi sunday wash s...</td>\n",
              "      <td>__label__maryland flash flood struck maryland ...</td>\n",
              "    </tr>\n",
              "    <tr>\n",
              "      <th>2</th>\n",
              "      <td>ID_1001136950345109504</td>\n",
              "      <td>State of emergency declared for Maryland flood...</td>\n",
              "      <td>__label__Maryland</td>\n",
              "      <td>state emerg declar maryland flood via youtub</td>\n",
              "      <td>__label__maryland state emerg declar maryland ...</td>\n",
              "    </tr>\n",
              "    <tr>\n",
              "      <th>3</th>\n",
              "      <td>ID_1001137334056833024</td>\n",
              "      <td>Other parts of Maryland also saw significant d...</td>\n",
              "      <td>__label__Baltimore Maryland</td>\n",
              "      <td>part maryland also saw signific damag sunday s...</td>\n",
              "      <td>__label__baltimore maryland part maryland also...</td>\n",
              "    </tr>\n",
              "    <tr>\n",
              "      <th>4</th>\n",
              "      <td>ID_1001138374923579392</td>\n",
              "      <td>Catastrophic Flooding Slams Ellicott City, Mar...</td>\n",
              "      <td>__label__Ellicott City Maryland</td>\n",
              "      <td>catastroph flood slam ellicott citi maryland w...</td>\n",
              "      <td>__label__ellicott city maryland catastroph flo...</td>\n",
              "    </tr>\n",
              "    <tr>\n",
              "      <th>5</th>\n",
              "      <td>ID_1001138377717157888</td>\n",
              "      <td>WATCH: 1 missing after flash #FLOODING devasta...</td>\n",
              "      <td>__label__Ellicott City Maryland</td>\n",
              "      <td>watch miss flash flood devast ellicott citi ma...</td>\n",
              "      <td>__label__ellicott city maryland watch miss fla...</td>\n",
              "    </tr>\n",
              "  </tbody>\n",
              "</table>\n",
              "</div>"
            ],
            "text/plain": [
              "                 tweet_id                                               text  \\\n",
              "1  ID_1001136696589631488  Flash floods struck a Maryland city on Sunday,...   \n",
              "2  ID_1001136950345109504  State of emergency declared for Maryland flood...   \n",
              "3  ID_1001137334056833024  Other parts of Maryland also saw significant d...   \n",
              "4  ID_1001138374923579392  Catastrophic Flooding Slams Ellicott City, Mar...   \n",
              "5  ID_1001138377717157888  WATCH: 1 missing after flash #FLOODING devasta...   \n",
              "\n",
              "                          location  \\\n",
              "1                __label__Maryland   \n",
              "2                __label__Maryland   \n",
              "3      __label__Baltimore Maryland   \n",
              "4  __label__Ellicott City Maryland   \n",
              "5  __label__Ellicott City Maryland   \n",
              "\n",
              "                                        cleaned_text  \\\n",
              "1  flash flood struck maryland citi sunday wash s...   \n",
              "2       state emerg declar maryland flood via youtub   \n",
              "3  part maryland also saw signific damag sunday s...   \n",
              "4  catastroph flood slam ellicott citi maryland w...   \n",
              "5  watch miss flash flood devast ellicott citi ma...   \n",
              "\n",
              "                                location_description  \n",
              "1  __label__maryland flash flood struck maryland ...  \n",
              "2  __label__maryland state emerg declar maryland ...  \n",
              "3  __label__baltimore maryland part maryland also...  \n",
              "4  __label__ellicott city maryland catastroph flo...  \n",
              "5  __label__ellicott city maryland watch miss fla...  "
            ]
          },
          "execution_count": 21,
          "metadata": {},
          "output_type": "execute_result"
        }
      ],
      "source": [
        "def preprocess(text):\n",
        "    text = re.sub(r'[^\\w\\s\\']',' ', text)\n",
        "    text = re.sub(' +', ' ', text)\n",
        "    return text.strip().lower()\n",
        "\n",
        "df[\"location_description\"] = df[\"location_description\"].apply(preprocess)\n",
        "df.head()"
      ]
    },
    {
      "cell_type": "code",
      "execution_count": 22,
      "metadata": {
        "colab": {
          "base_uri": "https://localhost:8080/"
        },
        "id": "n7yFoiiXVuJ8",
        "outputId": "cc5cf8ce-116e-416c-8d2a-4ec266589d37"
      },
      "outputs": [
        {
          "data": {
            "text/plain": [
              "('__label__maryland state emerg declar maryland flood via youtub',\n",
              " '__label__Maryland')"
            ]
          },
          "execution_count": 22,
          "metadata": {},
          "output_type": "execute_result"
        }
      ],
      "source": [
        "df[\"location_description\"][2] , df[\"location\"][2]"
      ]
    },
    {
      "attachments": {},
      "cell_type": "markdown",
      "metadata": {
        "id": "zZFBP7XYj2kj"
      },
      "source": [
        "## split And save"
      ]
    },
    {
      "cell_type": "code",
      "execution_count": 23,
      "metadata": {
        "id": "f6YmNH7rVxov"
      },
      "outputs": [],
      "source": [
        "train, val = train_test_split(df, test_size=0.2)"
      ]
    },
    {
      "cell_type": "code",
      "execution_count": 25,
      "metadata": {
        "id": "xQp7N0QnWIPF"
      },
      "outputs": [],
      "source": [
        "train.to_csv(\"df.train\", columns=[\"location_description\"], index=False, header=False)\n",
        "val.to_csv(\"df.test\", columns=[\"location_description\"], index=False, header=False)"
      ]
    },
    {
      "attachments": {},
      "cell_type": "markdown",
      "metadata": {
        "id": "Rs2pDFkYkACL"
      },
      "source": [
        "## Train fasttext model"
      ]
    },
    {
      "cell_type": "code",
      "execution_count": 26,
      "metadata": {
        "id": "Q6HUYjHcWL_J"
      },
      "outputs": [
        {
          "name": "stderr",
          "output_type": "stream",
          "text": [
            "Read 0M words\n",
            "Number of words:  15991\n",
            "Number of labels: 1098\n",
            "Progress: 100.0% words/sec/thread: 2095609 lr:  0.000000 avg.loss:  0.370513 ETA:   0h 0m 0s\n"
          ]
        }
      ],
      "source": [
        "model = fasttext.train_supervised(input=\"df.train\", lr=1.0, epoch=25, wordNgrams=2, bucket=200000, dim=50, loss='hs')"
      ]
    },
    {
      "cell_type": "code",
      "execution_count": 27,
      "metadata": {
        "colab": {
          "base_uri": "https://localhost:8080/"
        },
        "id": "miYvED8KW8Xv",
        "outputId": "4a1f29ca-5bd6-4ab3-bb2d-1d0c39049cf7"
      },
      "outputs": [
        {
          "data": {
            "text/plain": [
              "(2198, 0.7060964513193813, 0.7060964513193813)"
            ]
          },
          "execution_count": 27,
          "metadata": {},
          "output_type": "execute_result"
        }
      ],
      "source": [
        "model.test(\"df.test\")"
      ]
    },
    {
      "cell_type": "code",
      "execution_count": 28,
      "metadata": {
        "colab": {
          "base_uri": "https://localhost:8080/",
          "height": 206
        },
        "id": "uBpHHslUXmG2",
        "outputId": "7127650a-c920-4c6a-caa4-03f90e1ef466"
      },
      "outputs": [
        {
          "data": {
            "text/html": [
              "<div>\n",
              "<style scoped>\n",
              "    .dataframe tbody tr th:only-of-type {\n",
              "        vertical-align: middle;\n",
              "    }\n",
              "\n",
              "    .dataframe tbody tr th {\n",
              "        vertical-align: top;\n",
              "    }\n",
              "\n",
              "    .dataframe thead th {\n",
              "        text-align: right;\n",
              "    }\n",
              "</style>\n",
              "<table border=\"1\" class=\"dataframe\">\n",
              "  <thead>\n",
              "    <tr style=\"text-align: right;\">\n",
              "      <th></th>\n",
              "      <th>tweet_id</th>\n",
              "      <th>text</th>\n",
              "      <th>cleaned_text</th>\n",
              "    </tr>\n",
              "  </thead>\n",
              "  <tbody>\n",
              "    <tr>\n",
              "      <th>0</th>\n",
              "      <td>ID_1001154804658286592</td>\n",
              "      <td>What is happening to the infrastructure in New...</td>\n",
              "      <td>happen infrastructur new england global warm m...</td>\n",
              "    </tr>\n",
              "    <tr>\n",
              "      <th>1</th>\n",
              "      <td>ID_1001155505459486720</td>\n",
              "      <td>SOLDER MISSING IN FLOOD.. PRAY FOR EDDISON HER...</td>\n",
              "      <td>solder miss flood pray eddison hermond pray el...</td>\n",
              "    </tr>\n",
              "    <tr>\n",
              "      <th>2</th>\n",
              "      <td>ID_1001155756371136512</td>\n",
              "      <td>RT @TIME: Police searching for missing person ...</td>\n",
              "      <td>rt time polic search miss person devast year f...</td>\n",
              "    </tr>\n",
              "    <tr>\n",
              "      <th>3</th>\n",
              "      <td>ID_1001159445194399744</td>\n",
              "      <td>Flash Flood Tears Through Maryland Town For Se...</td>\n",
              "      <td>flash flood tear maryland town second time two...</td>\n",
              "    </tr>\n",
              "    <tr>\n",
              "      <th>4</th>\n",
              "      <td>ID_1001164907587538944</td>\n",
              "      <td>Ellicott City #FLOODING Pictures: Maryland Gov...</td>\n",
              "      <td>ellicott citi flood pictur maryland governor d...</td>\n",
              "    </tr>\n",
              "  </tbody>\n",
              "</table>\n",
              "</div>"
            ],
            "text/plain": [
              "                 tweet_id                                               text  \\\n",
              "0  ID_1001154804658286592  What is happening to the infrastructure in New...   \n",
              "1  ID_1001155505459486720  SOLDER MISSING IN FLOOD.. PRAY FOR EDDISON HER...   \n",
              "2  ID_1001155756371136512  RT @TIME: Police searching for missing person ...   \n",
              "3  ID_1001159445194399744  Flash Flood Tears Through Maryland Town For Se...   \n",
              "4  ID_1001164907587538944  Ellicott City #FLOODING Pictures: Maryland Gov...   \n",
              "\n",
              "                                        cleaned_text  \n",
              "0  happen infrastructur new england global warm m...  \n",
              "1  solder miss flood pray eddison hermond pray el...  \n",
              "2  rt time polic search miss person devast year f...  \n",
              "3  flash flood tear maryland town second time two...  \n",
              "4  ellicott citi flood pictur maryland governor d...  "
            ]
          },
          "execution_count": 28,
          "metadata": {},
          "output_type": "execute_result"
        }
      ],
      "source": [
        "test.head()"
      ]
    },
    {
      "attachments": {},
      "cell_type": "markdown",
      "metadata": {
        "id": "ZCYwG6htkHWs"
      },
      "source": [
        "## Make prediction"
      ]
    },
    {
      "cell_type": "code",
      "execution_count": 29,
      "metadata": {
        "id": "NL3E8XF_X70S"
      },
      "outputs": [],
      "source": [
        "prediction = []\n",
        "for text in test[\"cleaned_text\"]:\n",
        "    prediction.append(model.predict(text))"
      ]
    },
    {
      "cell_type": "code",
      "execution_count": 30,
      "metadata": {
        "id": "00LDZedYX_3e"
      },
      "outputs": [],
      "source": [
        "locations = [item[0][0].split('__')[-1] for item in prediction]"
      ]
    },
    {
      "cell_type": "code",
      "execution_count": 31,
      "metadata": {
        "id": "evxQZhlot0l-"
      },
      "outputs": [
        {
          "data": {
            "text/html": [
              "<div>\n",
              "<style scoped>\n",
              "    .dataframe tbody tr th:only-of-type {\n",
              "        vertical-align: middle;\n",
              "    }\n",
              "\n",
              "    .dataframe tbody tr th {\n",
              "        vertical-align: top;\n",
              "    }\n",
              "\n",
              "    .dataframe thead th {\n",
              "        text-align: right;\n",
              "    }\n",
              "</style>\n",
              "<table border=\"1\" class=\"dataframe\">\n",
              "  <thead>\n",
              "    <tr style=\"text-align: right;\">\n",
              "      <th></th>\n",
              "      <th>tweet_id</th>\n",
              "      <th>text</th>\n",
              "      <th>cleaned_text</th>\n",
              "    </tr>\n",
              "  </thead>\n",
              "  <tbody>\n",
              "    <tr>\n",
              "      <th>0</th>\n",
              "      <td>ID_1001154804658286592</td>\n",
              "      <td>What is happening to the infrastructure in New...</td>\n",
              "      <td>happen infrastructur new england global warm m...</td>\n",
              "    </tr>\n",
              "    <tr>\n",
              "      <th>1</th>\n",
              "      <td>ID_1001155505459486720</td>\n",
              "      <td>SOLDER MISSING IN FLOOD.. PRAY FOR EDDISON HER...</td>\n",
              "      <td>solder miss flood pray eddison hermond pray el...</td>\n",
              "    </tr>\n",
              "    <tr>\n",
              "      <th>2</th>\n",
              "      <td>ID_1001155756371136512</td>\n",
              "      <td>RT @TIME: Police searching for missing person ...</td>\n",
              "      <td>rt time polic search miss person devast year f...</td>\n",
              "    </tr>\n",
              "    <tr>\n",
              "      <th>3</th>\n",
              "      <td>ID_1001159445194399744</td>\n",
              "      <td>Flash Flood Tears Through Maryland Town For Se...</td>\n",
              "      <td>flash flood tear maryland town second time two...</td>\n",
              "    </tr>\n",
              "    <tr>\n",
              "      <th>4</th>\n",
              "      <td>ID_1001164907587538944</td>\n",
              "      <td>Ellicott City #FLOODING Pictures: Maryland Gov...</td>\n",
              "      <td>ellicott citi flood pictur maryland governor d...</td>\n",
              "    </tr>\n",
              "    <tr>\n",
              "      <th>...</th>\n",
              "      <td>...</td>\n",
              "      <td>...</td>\n",
              "      <td>...</td>\n",
              "    </tr>\n",
              "    <tr>\n",
              "      <th>2937</th>\n",
              "      <td>ID_915017703055749120</td>\n",
              "      <td>@PurinaCatChow he wants to donate some food to...</td>\n",
              "      <td>purinacatchow want donat food homeless cat aff...</td>\n",
              "    </tr>\n",
              "    <tr>\n",
              "      <th>2938</th>\n",
              "      <td>ID_915026957758328832</td>\n",
              "      <td>@HannahStocking I live the Mexico earthquake a...</td>\n",
              "      <td>hannahstock live mexico earthquak hous damag m...</td>\n",
              "    </tr>\n",
              "    <tr>\n",
              "      <th>2939</th>\n",
              "      <td>ID_915253441726889984</td>\n",
              "      <td>RT @GlobalCalgary: WATCH: National Taco Day in...</td>\n",
              "      <td>rt globalcalgari watch nation taco day calgari...</td>\n",
              "    </tr>\n",
              "    <tr>\n",
              "      <th>2940</th>\n",
              "      <td>ID_915971980859400192</td>\n",
              "      <td>Oaxaca &amp; Chiapas – Mexico’s poorest states – h...</td>\n",
              "      <td>oaxaca chiapa mexico poorest state harshest bl...</td>\n",
              "    </tr>\n",
              "    <tr>\n",
              "      <th>2941</th>\n",
              "      <td>ID_916099144116191232</td>\n",
              "      <td>RT @CBSSF: Carlos Santana Donates $100K To Mex...</td>\n",
              "      <td>rt cbssf carlo santana donat k mexico earthqua...</td>\n",
              "    </tr>\n",
              "  </tbody>\n",
              "</table>\n",
              "<p>2942 rows × 3 columns</p>\n",
              "</div>"
            ],
            "text/plain": [
              "                    tweet_id  \\\n",
              "0     ID_1001154804658286592   \n",
              "1     ID_1001155505459486720   \n",
              "2     ID_1001155756371136512   \n",
              "3     ID_1001159445194399744   \n",
              "4     ID_1001164907587538944   \n",
              "...                      ...   \n",
              "2937   ID_915017703055749120   \n",
              "2938   ID_915026957758328832   \n",
              "2939   ID_915253441726889984   \n",
              "2940   ID_915971980859400192   \n",
              "2941   ID_916099144116191232   \n",
              "\n",
              "                                                   text  \\\n",
              "0     What is happening to the infrastructure in New...   \n",
              "1     SOLDER MISSING IN FLOOD.. PRAY FOR EDDISON HER...   \n",
              "2     RT @TIME: Police searching for missing person ...   \n",
              "3     Flash Flood Tears Through Maryland Town For Se...   \n",
              "4     Ellicott City #FLOODING Pictures: Maryland Gov...   \n",
              "...                                                 ...   \n",
              "2937  @PurinaCatChow he wants to donate some food to...   \n",
              "2938  @HannahStocking I live the Mexico earthquake a...   \n",
              "2939  RT @GlobalCalgary: WATCH: National Taco Day in...   \n",
              "2940  Oaxaca & Chiapas – Mexico’s poorest states – h...   \n",
              "2941  RT @CBSSF: Carlos Santana Donates $100K To Mex...   \n",
              "\n",
              "                                           cleaned_text  \n",
              "0     happen infrastructur new england global warm m...  \n",
              "1     solder miss flood pray eddison hermond pray el...  \n",
              "2     rt time polic search miss person devast year f...  \n",
              "3     flash flood tear maryland town second time two...  \n",
              "4     ellicott citi flood pictur maryland governor d...  \n",
              "...                                                 ...  \n",
              "2937  purinacatchow want donat food homeless cat aff...  \n",
              "2938  hannahstock live mexico earthquak hous damag m...  \n",
              "2939  rt globalcalgari watch nation taco day calgari...  \n",
              "2940  oaxaca chiapa mexico poorest state harshest bl...  \n",
              "2941  rt cbssf carlo santana donat k mexico earthqua...  \n",
              "\n",
              "[2942 rows x 3 columns]"
            ]
          },
          "execution_count": 31,
          "metadata": {},
          "output_type": "execute_result"
        }
      ],
      "source": [
        "test"
      ]
    },
    {
      "attachments": {},
      "cell_type": "markdown",
      "metadata": {
        "id": "v17uVmwakNCJ"
      },
      "source": [
        "## Submission"
      ]
    },
    {
      "cell_type": "code",
      "execution_count": 32,
      "metadata": {
        "id": "mmo4EkbaaH4H"
      },
      "outputs": [
        {
          "name": "stderr",
          "output_type": "stream",
          "text": [
            "/var/folders/w8/b_cflrn97k9c15rcrn5t8mmr0000gn/T/ipykernel_14327/2370934878.py:2: FutureWarning: ChainedAssignmentError: behaviour will change in pandas 3.0!\n",
            "You are setting values through chained assignment. Currently this works in certain cases, but when using Copy-on-Write (which will become the default behaviour in pandas 3.0) this will never work to update the original DataFrame or Series, because the intermediate object on which we are setting values will behave as a copy.\n",
            "A typical example is when you are setting values in a column of a DataFrame, like:\n",
            "\n",
            "df[\"col\"][row_indexer] = value\n",
            "\n",
            "Use `df.loc[row_indexer, \"col\"] = values` instead, to perform the assignment in a single step and ensure this keeps updating the original `df`.\n",
            "\n",
            "See the caveats in the documentation: https://pandas.pydata.org/pandas-docs/stable/user_guide/indexing.html#returning-a-view-versus-a-copy\n",
            "\n",
            "  test[\"prediction\"][1000] = \"Georgia_Florida_Alabama_North_Carolina_South_Carolina_Alaska_Hawaii_California_Iowa_Nebraska_Missouri_Kansas\"\n"
          ]
        }
      ],
      "source": [
        "test['prediction'] = locations\n",
        "test[\"prediction\"][1000] = \"Georgia_Florida_Alabama_North_Carolina_South_Carolina_Alaska_Hawaii_California_Iowa_Nebraska_Missouri_Kansas\"\n",
        "test[[\"tweet_id\", \"prediction\"]].to_csv(\"../submissions/submission1.csv\", index=False)"
      ]
    },
    {
      "cell_type": "code",
      "execution_count": 33,
      "metadata": {
        "colab": {
          "base_uri": "https://localhost:8080/",
          "height": 423
        },
        "id": "xzzLECyarU8U",
        "outputId": "ed619412-5ebf-46c4-be10-0f86091a8ad1"
      },
      "outputs": [
        {
          "data": {
            "text/html": [
              "<div>\n",
              "<style scoped>\n",
              "    .dataframe tbody tr th:only-of-type {\n",
              "        vertical-align: middle;\n",
              "    }\n",
              "\n",
              "    .dataframe tbody tr th {\n",
              "        vertical-align: top;\n",
              "    }\n",
              "\n",
              "    .dataframe thead th {\n",
              "        text-align: right;\n",
              "    }\n",
              "</style>\n",
              "<table border=\"1\" class=\"dataframe\">\n",
              "  <thead>\n",
              "    <tr style=\"text-align: right;\">\n",
              "      <th></th>\n",
              "      <th>tweet_id</th>\n",
              "      <th>text</th>\n",
              "      <th>cleaned_text</th>\n",
              "      <th>prediction</th>\n",
              "    </tr>\n",
              "  </thead>\n",
              "  <tbody>\n",
              "    <tr>\n",
              "      <th>0</th>\n",
              "      <td>ID_1001154804658286592</td>\n",
              "      <td>What is happening to the infrastructure in New...</td>\n",
              "      <td>happen infrastructur new england global warm m...</td>\n",
              "      <td>nebraska</td>\n",
              "    </tr>\n",
              "    <tr>\n",
              "      <th>1</th>\n",
              "      <td>ID_1001155505459486720</td>\n",
              "      <td>SOLDER MISSING IN FLOOD.. PRAY FOR EDDISON HER...</td>\n",
              "      <td>solder miss flood pray eddison hermond pray el...</td>\n",
              "      <td>ellicott</td>\n",
              "    </tr>\n",
              "    <tr>\n",
              "      <th>2</th>\n",
              "      <td>ID_1001155756371136512</td>\n",
              "      <td>RT @TIME: Police searching for missing person ...</td>\n",
              "      <td>rt time polic search miss person devast year f...</td>\n",
              "      <td>ellicott</td>\n",
              "    </tr>\n",
              "    <tr>\n",
              "      <th>3</th>\n",
              "      <td>ID_1001159445194399744</td>\n",
              "      <td>Flash Flood Tears Through Maryland Town For Se...</td>\n",
              "      <td>flash flood tear maryland town second time two...</td>\n",
              "      <td>ellicott</td>\n",
              "    </tr>\n",
              "    <tr>\n",
              "      <th>4</th>\n",
              "      <td>ID_1001164907587538944</td>\n",
              "      <td>Ellicott City #FLOODING Pictures: Maryland Gov...</td>\n",
              "      <td>ellicott citi flood pictur maryland governor d...</td>\n",
              "      <td>ellicott</td>\n",
              "    </tr>\n",
              "    <tr>\n",
              "      <th>...</th>\n",
              "      <td>...</td>\n",
              "      <td>...</td>\n",
              "      <td>...</td>\n",
              "      <td>...</td>\n",
              "    </tr>\n",
              "    <tr>\n",
              "      <th>2937</th>\n",
              "      <td>ID_915017703055749120</td>\n",
              "      <td>@PurinaCatChow he wants to donate some food to...</td>\n",
              "      <td>purinacatchow want donat food homeless cat aff...</td>\n",
              "      <td>mexico</td>\n",
              "    </tr>\n",
              "    <tr>\n",
              "      <th>2938</th>\n",
              "      <td>ID_915026957758328832</td>\n",
              "      <td>@HannahStocking I live the Mexico earthquake a...</td>\n",
              "      <td>hannahstock live mexico earthquak hous damag m...</td>\n",
              "      <td>mexico</td>\n",
              "    </tr>\n",
              "    <tr>\n",
              "      <th>2939</th>\n",
              "      <td>ID_915253441726889984</td>\n",
              "      <td>RT @GlobalCalgary: WATCH: National Taco Day in...</td>\n",
              "      <td>rt globalcalgari watch nation taco day calgari...</td>\n",
              "      <td>mexico</td>\n",
              "    </tr>\n",
              "    <tr>\n",
              "      <th>2940</th>\n",
              "      <td>ID_915971980859400192</td>\n",
              "      <td>Oaxaca &amp; Chiapas – Mexico’s poorest states – h...</td>\n",
              "      <td>oaxaca chiapa mexico poorest state harshest bl...</td>\n",
              "      <td>mexico</td>\n",
              "    </tr>\n",
              "    <tr>\n",
              "      <th>2941</th>\n",
              "      <td>ID_916099144116191232</td>\n",
              "      <td>RT @CBSSF: Carlos Santana Donates $100K To Mex...</td>\n",
              "      <td>rt cbssf carlo santana donat k mexico earthqua...</td>\n",
              "      <td>mexico</td>\n",
              "    </tr>\n",
              "  </tbody>\n",
              "</table>\n",
              "<p>2942 rows × 4 columns</p>\n",
              "</div>"
            ],
            "text/plain": [
              "                    tweet_id  \\\n",
              "0     ID_1001154804658286592   \n",
              "1     ID_1001155505459486720   \n",
              "2     ID_1001155756371136512   \n",
              "3     ID_1001159445194399744   \n",
              "4     ID_1001164907587538944   \n",
              "...                      ...   \n",
              "2937   ID_915017703055749120   \n",
              "2938   ID_915026957758328832   \n",
              "2939   ID_915253441726889984   \n",
              "2940   ID_915971980859400192   \n",
              "2941   ID_916099144116191232   \n",
              "\n",
              "                                                   text  \\\n",
              "0     What is happening to the infrastructure in New...   \n",
              "1     SOLDER MISSING IN FLOOD.. PRAY FOR EDDISON HER...   \n",
              "2     RT @TIME: Police searching for missing person ...   \n",
              "3     Flash Flood Tears Through Maryland Town For Se...   \n",
              "4     Ellicott City #FLOODING Pictures: Maryland Gov...   \n",
              "...                                                 ...   \n",
              "2937  @PurinaCatChow he wants to donate some food to...   \n",
              "2938  @HannahStocking I live the Mexico earthquake a...   \n",
              "2939  RT @GlobalCalgary: WATCH: National Taco Day in...   \n",
              "2940  Oaxaca & Chiapas – Mexico’s poorest states – h...   \n",
              "2941  RT @CBSSF: Carlos Santana Donates $100K To Mex...   \n",
              "\n",
              "                                           cleaned_text prediction  \n",
              "0     happen infrastructur new england global warm m...   nebraska  \n",
              "1     solder miss flood pray eddison hermond pray el...   ellicott  \n",
              "2     rt time polic search miss person devast year f...   ellicott  \n",
              "3     flash flood tear maryland town second time two...   ellicott  \n",
              "4     ellicott citi flood pictur maryland governor d...   ellicott  \n",
              "...                                                 ...        ...  \n",
              "2937  purinacatchow want donat food homeless cat aff...     mexico  \n",
              "2938  hannahstock live mexico earthquak hous damag m...     mexico  \n",
              "2939  rt globalcalgari watch nation taco day calgari...     mexico  \n",
              "2940  oaxaca chiapa mexico poorest state harshest bl...     mexico  \n",
              "2941  rt cbssf carlo santana donat k mexico earthqua...     mexico  \n",
              "\n",
              "[2942 rows x 4 columns]"
            ]
          },
          "execution_count": 33,
          "metadata": {},
          "output_type": "execute_result"
        }
      ],
      "source": [
        "test"
      ]
    },
    {
      "cell_type": "code",
      "execution_count": 34,
      "metadata": {
        "colab": {
          "base_uri": "https://localhost:8080/",
          "height": 81
        },
        "id": "oFtThZeKtO1D",
        "outputId": "c40b1c5b-212e-4ec5-fca3-247bade9e8a3"
      },
      "outputs": [
        {
          "data": {
            "text/html": [
              "<div>\n",
              "<style scoped>\n",
              "    .dataframe tbody tr th:only-of-type {\n",
              "        vertical-align: middle;\n",
              "    }\n",
              "\n",
              "    .dataframe tbody tr th {\n",
              "        vertical-align: top;\n",
              "    }\n",
              "\n",
              "    .dataframe thead th {\n",
              "        text-align: right;\n",
              "    }\n",
              "</style>\n",
              "<table border=\"1\" class=\"dataframe\">\n",
              "  <thead>\n",
              "    <tr style=\"text-align: right;\">\n",
              "      <th></th>\n",
              "      <th>tweet_id</th>\n",
              "      <th>text</th>\n",
              "      <th>cleaned_text</th>\n",
              "      <th>prediction</th>\n",
              "    </tr>\n",
              "  </thead>\n",
              "  <tbody>\n",
              "    <tr>\n",
              "      <th>1000</th>\n",
              "      <td>ID_1110982610401050624</td>\n",
              "      <td>Our bill includes $3 billion for agriculture d...</td>\n",
              "      <td>bill includ billion agricultur disast relief a...</td>\n",
              "      <td>Georgia_Florida_Alabama_North_Carolina_South_C...</td>\n",
              "    </tr>\n",
              "  </tbody>\n",
              "</table>\n",
              "</div>"
            ],
            "text/plain": [
              "                    tweet_id  \\\n",
              "1000  ID_1110982610401050624   \n",
              "\n",
              "                                                   text  \\\n",
              "1000  Our bill includes $3 billion for agriculture d...   \n",
              "\n",
              "                                           cleaned_text  \\\n",
              "1000  bill includ billion agricultur disast relief a...   \n",
              "\n",
              "                                             prediction  \n",
              "1000  Georgia_Florida_Alabama_North_Carolina_South_C...  "
            ]
          },
          "execution_count": 34,
          "metadata": {},
          "output_type": "execute_result"
        }
      ],
      "source": [
        "test[test[\"tweet_id\"] == \"ID_1110982610401050624\"]"
      ]
    },
    {
      "cell_type": "code",
      "execution_count": 35,
      "metadata": {
        "colab": {
          "base_uri": "https://localhost:8080/"
        },
        "id": "3v9tM5FNspuH",
        "outputId": "5b5ca083-1729-4c93-d38b-63bd83e8dab0"
      },
      "outputs": [
        {
          "data": {
            "text/plain": [
              "((2942, 4), 2942)"
            ]
          },
          "execution_count": 35,
          "metadata": {},
          "output_type": "execute_result"
        }
      ],
      "source": [
        "test.shape , len(locations)"
      ]
    }
  ],
  "metadata": {
    "colab": {
      "provenance": []
    },
    "kernelspec": {
      "display_name": "Python 3",
      "language": "python",
      "name": "python3"
    },
    "language_info": {
      "codemirror_mode": {
        "name": "ipython",
        "version": 3
      },
      "file_extension": ".py",
      "mimetype": "text/x-python",
      "name": "python",
      "nbconvert_exporter": "python",
      "pygments_lexer": "ipython3",
      "version": "3.11.8"
    }
  },
  "nbformat": 4,
  "nbformat_minor": 0
}
